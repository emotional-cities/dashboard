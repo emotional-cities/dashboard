{
 "cells": [
  {
   "cell_type": "code",
   "execution_count": 36,
   "metadata": {},
   "outputs": [],
   "source": [
    "import pandas as pd\n",
    "import folium\n",
    "from folium import plugins\n",
    "from folium import IFrame\n",
    "from folium.features import DivIcon"
   ]
  },
  {
   "cell_type": "code",
   "execution_count": 42,
   "metadata": {},
   "outputs": [],
   "source": [
    "# Create a map centered in Lisbon\n",
    "m = folium.Map(location=[38.736946, -9.142685], zoom_start=13, control_scale=True, tiles=None)\n",
    "\n",
    "\n",
    "# Create a feature group for basemaps\n",
    "fg1 = folium.FeatureGroup(name='OpenStreetMap', overlay=False)\n",
    "folium.TileLayer(tiles='OpenStreetMap', name='OpenStreetMap').add_to(fg1)\n",
    "\n",
    "# Add satellite imagery basemap\n",
    "fg2 = folium.FeatureGroup(name=\"Esri World Imagery\", overlay=False)\n",
    "folium.TileLayer(\n",
    "    tiles='https://server.arcgisonline.com/ArcGIS/rest/services/World_Imagery/MapServer/tile/{z}/{y}/{x}',\n",
    "    attr='Esri',\n",
    "    name='Esri Satellite'\n",
    ").add_to(fg2)\n",
    "\n",
    "# Add feature group with basemaps to the map\n",
    "m.add_child(fg1)\n",
    "m.add_child(fg2)\n",
    "\n",
    "# Add LayerControl to toggle between basemaps\n",
    "folium.LayerControl(position='bottomleft').add_to(m)\n",
    "\n",
    "\n",
    "# Load the CSV file containing the coordinates\n",
    "df = pd.read_csv('BAP_Image_table.csv', sep=',')\n",
    "\n",
    "\n",
    "for index, row in df.iterrows():\n",
    "    # Assuming you have a way to construct the URL for each image\n",
    "    image_url = f\"https://emocities.s3.eu-central-1.amazonaws.com/{row['REFERENCE']}.jpg\"\n",
    "    \n",
    "    # Custom HTML content for the DivIcon\n",
    "    html = f'<img src=\"{image_url}\" style=\"width: 50px; height: auto; border: 2px solid white; border-radius:7px;\">'  # Small thumbnail size\n",
    "    \n",
    "    # Create an icon with the custom HTML\n",
    "    icon = DivIcon(\n",
    "        icon_size=(25,25),  # Size of the icon\n",
    "        icon_anchor=(25,25),  # Anchor point\n",
    "        html=html,\n",
    "    )\n",
    "\n",
    "    popup_html = folium.Html(f\"<img src='{image_url}' width='450'>\", script=True)\n",
    "    popup = folium.Popup(popup_html, max_width=2650)\n",
    "    \n",
    "    # Add this icon to the map without a marker icon\n",
    "    folium.Marker(\n",
    "        location=[row['LATITUDE'], row['LONGITUDE']],\n",
    "        icon=icon,\n",
    "        popup=popup\n",
    "    ).add_to(m)\n",
    "\n",
    "mapFname = 'Output_Lisbon_Img.html'\n",
    "m.save(mapFname)"
   ]
  }
 ],
 "metadata": {
  "kernelspec": {
   "display_name": "compurban",
   "language": "python",
   "name": "python3"
  },
  "language_info": {
   "codemirror_mode": {
    "name": "ipython",
    "version": 3
   },
   "file_extension": ".py",
   "mimetype": "text/x-python",
   "name": "python",
   "nbconvert_exporter": "python",
   "pygments_lexer": "ipython3",
   "version": "3.10.6"
  }
 },
 "nbformat": 4,
 "nbformat_minor": 2
}
