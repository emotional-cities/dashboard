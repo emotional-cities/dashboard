{
 "cells": [
  {
   "cell_type": "code",
   "execution_count": 1,
   "metadata": {},
   "outputs": [],
   "source": [
    "import mysql.connector\n",
    "\n",
    "def add_layer(Layername,Thresholds,Colors,Indexes,Vmin,Vmax,Caption):\n",
    "    db=mysql.connector.connect(\n",
    "        host='climateflux.com',\n",
    "        user='bishoykaleny',\n",
    "        passwd='01280408351',\n",
    "        database='climate_walk'\n",
    "    )\n",
    "    \n",
    "    mycursor=db.cursor()\n",
    "    mycursor.execute(f\"INSERT INTO metadata_emotics (LayerName, Thresholds, Colors, Indexes, Vmin, Vmax, Caption) VALUES ('{Layername}', '{Thresholds}', '{Colors}', '{Indexes}', {Vmin}, {Vmax}, '{Caption}')\")\n",
    "    db.commit()\n",
    "    '''\n",
    "    \"INSERT INTO metadata_emotics (LayerName, Thresholds, Colors, Indexes, Vmin, Vmax, Caption) VALUES ('hex350_grid_ndvi2022', '[0.1, 0.2, 0.4, 0.6]', '[#A2FF9E, #60C957, #008000, #004D00]', '[0.10, 0.24, 0.42, 0.60, 0.78]', 0.10, 0.78, 'Normalized Difference Vegetation Index (NDVI > 0.1)')\")\n",
    "    wehre here for the ndvi example we have \n",
    "    Layername:hex350_grid_ndvi2022\n",
    "    Thresholds: [0.1, 0.2, 0.4, 0.6]\n",
    "    Colors:[#A2FF9E, #60C957, #008000, #004D00]\n",
    "    Indexes: [0.10, 0.24, 0.42, 0.60, 0.78]\n",
    "    Vmin:0.10\n",
    "    Vmax:0.78\n",
    "    Caption: Normalized Difference Vegetation Index (NDVI > 0.1)\n",
    "    \n",
    "    THE EQUIVILINT LAMBDA FUNCTION:\n",
    "    \n",
    "color_ndvi = lambda x: {\n",
    "    'fillColor': '#FFFFFF' if x['properties']['_mean'] < 0.1 else \n",
    "    '#A2FF9E' if 0.1 <= x['properties']['_mean'] < 0.2 else \n",
    "    '#60C957' if 0.2 <= x['properties']['_mean'] < 0.4 else \n",
    "    '#008000'if 0.4 <= x['properties']['_mean'] < 0.6 else\n",
    "    '#004D00','color':'white', 'weight':1, 'fillOpacity': '0.7'}\n",
    "fg1 = folium.FeatureGroup(name='Normalized difference vegetation index (NDVI)',overlay=False)\n",
    "hexmap(response,color_ndvi,fg1)       \n",
    "scale_ndvi = branca.colormap.StepColormap(['#A2FF9E','#60C957','#008000','#004D00'],index=[0.10,0.24,0.42,0.60,0.78], vmin=0.10, vmax=0.78, caption='Normalized Difference Vegetation Index (NDVI > 0.1)')\n",
    "\n",
    "Example how to use the function:\n",
    "add_layer(hex350_grid_ndvi2022,'[0.1, 0.2, 0.4, 0.6]','[#A2FF9E, #60C957, #008000, #004D00]','[0.10, 0.24, 0.42, 0.60, 0.78]'.0.10,0.78,'Normalized Difference Vegetation Index (NDVI > 0.1)')    \n",
    "    '''\n",
    "\n",
    "    "
   ]
  },
  {
   "cell_type": "code",
   "execution_count": null,
   "metadata": {},
   "outputs": [],
   "source": []
  }
 ],
 "metadata": {
  "kernelspec": {
   "display_name": "Python 3",
   "language": "python",
   "name": "python3"
  },
  "language_info": {
   "codemirror_mode": {
    "name": "ipython",
    "version": 3
   },
   "file_extension": ".py",
   "mimetype": "text/x-python",
   "name": "python",
   "nbconvert_exporter": "python",
   "pygments_lexer": "ipython3",
   "version": "3.10.11"
  },
  "orig_nbformat": 4,
  "vscode": {
   "interpreter": {
    "hash": "f98e3a756d7c9e33dddd42b87dd44f7b31e1b0345fcacd837187a0807495f9ae"
   }
  }
 },
 "nbformat": 4,
 "nbformat_minor": 2
}
